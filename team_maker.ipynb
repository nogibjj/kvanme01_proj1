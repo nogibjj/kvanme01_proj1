{
 "cells": [
  {
   "cell_type": "code",
   "execution_count": 7,
   "metadata": {},
   "outputs": [],
   "source": [
    "import pandas as pd\n",
    "from flask import Flask"
   ]
  },
  {
   "cell_type": "code",
   "execution_count": 6,
   "metadata": {},
   "outputs": [
    {
     "name": "stdout",
     "output_type": "stream",
     "text": [
      "     overall_pick  year                team            player former  \\\n",
      "555             6  2007  Washington Mystics     Bernice Mosby    NaN   \n",
      "707            38  2004      Minnesota Lynx       Kate Bulger    NaN   \n",
      "468             1  2009       Atlanta Dream  Angel McCoughtry    NaN   \n",
      "851            38  2001       Detroit Shock  Svetlana Volnaya    NaN   \n",
      "762            13  2002       Indiana Fever   Tawana McDonald    NaN   \n",
      "\n",
      "           college  years_played  games  win_shares  win_shares_40  \\\n",
      "555         Baylor             3   76.0         0.9          0.060   \n",
      "707  West Virginia             0    NaN         NaN            NaN   \n",
      "468     Louisville            13  311.0        37.6          0.173   \n",
      "851       Virginia             0    NaN         NaN            NaN   \n",
      "762        Georgia             0    NaN         NaN            NaN   \n",
      "\n",
      "     minutes_played  points  total_rebounds  assists  \n",
      "555             8.3     2.3             2.2      0.2  \n",
      "707             NaN     NaN             NaN      NaN  \n",
      "468            28.0    18.6             5.0      2.9  \n",
      "851             NaN     NaN             NaN      NaN  \n",
      "762             NaN     NaN             NaN      NaN  \n"
     ]
    }
   ],
   "source": [
    "# read in csv data\n",
    "df = pd.read_csv(\"wnbadraft.csv\")\n",
    "\n",
    "# create a random starting lineup\n",
    "lineup = df.sample(n=5)\n",
    "print(lineup)"
   ]
  },
  {
   "cell_type": "code",
   "execution_count": 11,
   "metadata": {},
   "outputs": [],
   "source": [
    "app = Flask(__name__)\n",
    "\n",
    "@app.route(\"/\")\n",
    "def home():\n",
    "    return print(lineup)"
   ]
  }
 ],
 "metadata": {
  "kernelspec": {
   "display_name": "Python 3.10.6 ('.venv')",
   "language": "python",
   "name": "python3"
  },
  "language_info": {
   "codemirror_mode": {
    "name": "ipython",
    "version": 3
   },
   "file_extension": ".py",
   "mimetype": "text/x-python",
   "name": "python",
   "nbconvert_exporter": "python",
   "pygments_lexer": "ipython3",
   "version": "3.10.6"
  },
  "orig_nbformat": 4,
  "vscode": {
   "interpreter": {
    "hash": "ac6dcd399ab8cd2ecc0f6e8f154efd75b4aa37c8093b73598011b1aae01f02fe"
   }
  }
 },
 "nbformat": 4,
 "nbformat_minor": 2
}
